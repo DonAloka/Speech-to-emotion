{
  "cells": [
    {
      "cell_type": "markdown",
      "metadata": {
        "colab_type": "text",
        "id": "CjWvnaQUrZmD"
      },
      "source": [
        "# Speech Emotion Recognition using the RAVDESS"
      ]
    },
    {
      "cell_type": "markdown",
      "metadata": {
        "colab_type": "text",
        "id": "67STjT5On4Wf"
      },
      "source": [
        "Importing Librosa library(A python package) for extracting important features of the audio like the pitch,tone."
      ]
    },
    {
      "cell_type": "code",
      "execution_count": 1,
      "metadata": {
        "colab": {
          "base_uri": "https://localhost:8080/",
          "height": 228
        },
        "colab_type": "code",
        "id": "N3b7x9shnZwp",
        "outputId": "3c16d672-0775-48b3-ba3d-37825f42da05"
      },
      "outputs": [
        {
          "name": "stdout",
          "output_type": "stream",
          "text": [
            "/home/aloka/Documents/NLP Project/audio-emotion-model-train/audio-env/bin/pip: 2: exec: /home/aloka/Documents/NLP Project/model-train/audio-env/bin/python3: not found\n"
          ]
        }
      ],
      "source": [
        "!pip install librosa"
      ]
    },
    {
      "cell_type": "markdown",
      "metadata": {
        "colab_type": "text",
        "id": "ywPJyaHHpOGE"
      },
      "source": [
        "Loading one audio file from the drive using librosa.\n",
        "Librosa loads the audio file as a floating point time series."
      ]
    },
    {
      "cell_type": "code",
      "execution_count": 3,
      "metadata": {
        "colab": {},
        "colab_type": "code",
        "id": "aWgCbHxAn1_h"
      },
      "outputs": [],
      "source": [
        "import librosa\n",
        "from librosa import display\n",
        "\n",
        "data, sampling_rate = librosa.load('../archive (4)/Actor_01/03-01-01-01-01-01-01.wav')"
      ]
    },
    {
      "cell_type": "markdown",
      "metadata": {
        "colab_type": "text",
        "id": "Vi77VvlppM5d"
      },
      "source": [
        "Plotting the audio file which was just loaded by librosa using waveplot function of librosa.This Function Plots the amplitude envelope of a waveform."
      ]
    },
    {
      "cell_type": "code",
      "execution_count": 6,
      "metadata": {
        "colab": {
          "base_uri": "https://localhost:8080/",
          "height": 367
        },
        "colab_type": "code",
        "id": "hZintfRxqK1A",
        "outputId": "bf38ea0c-a176-453b-9ddc-3e4bfb57f2a5"
      },
      "outputs": [
        {
          "data": {
            "text/plain": [
              "<librosa.display.AdaptiveWaveplot at 0x7f879e23b640>"
            ]
          },
          "execution_count": 6,
          "metadata": {},
          "output_type": "execute_result"
        },
        {
          "data": {
            "image/png": "[encoded data removed]",
            "text/plain": [
              "<Figure size 864x288 with 1 Axes>"
            ]
          },
          "metadata": {
            "needs_background": "light"
          },
          "output_type": "display_data"
        }
      ],
      "source": [
        "# pylab inline\n",
        "import matplotlib.pyplot as plt\n",
        "\n",
        "plt.figure(figsize=(12, 4))\n",
        "librosa.display.waveshow(data, sr=sampling_rate)"
      ]
    },
    {
      "cell_type": "markdown",
      "metadata": {
        "colab_type": "text",
        "id": "jPKKk4wEpMMW"
      },
      "source": [
        "# Load all files\n",
        "\n",
        "We will create our numpy array extracting Mel-frequency cepstral coefficients (MFCCs), while the classes to predict will be extracted from the name of the file (see the introductory section of this notebook to see the naming convention of the files of this dataset)."
      ]
    },
    {
      "cell_type": "code",
      "execution_count": 7,
      "metadata": {
        "colab": {
          "base_uri": "https://localhost:8080/",
          "height": 34
        },
        "colab_type": "code",
        "id": "ZdxY8LUotJCU",
        "outputId": "5e2390c6-afe1-4cea-c73b-db71200ebe49"
      },
      "outputs": [
        {
          "name": "stdout",
          "output_type": "stream",
          "text": [
            "--- Data loaded. Loading time: 207.87518692016602 seconds ---\n"
          ]
        }
      ],
      "source": [
        "import time\n",
        "import os\n",
        "import numpy as np\n",
        "path = '../archive (4)'\n",
        "lst = []\n",
        "\n",
        "start_time = time.time()\n",
        "\n",
        "for subdir, dirs, files in os.walk(path):\n",
        "  for file in files:\n",
        "      try:\n",
        "        #Load librosa array, obtain mfcss, store the file and the mcss information in a new array\n",
        "        X, sample_rate = librosa.load(os.path.join(subdir,file), res_type='kaiser_fast')\n",
        "        mfccs = np.mean(librosa.feature.mfcc(y=X, sr=sample_rate, n_mfcc=40).T,axis=0) \n",
        "        # The instruction below converts the labels (from 1 to 8) to a series from 0 to 7\n",
        "        # This is because our predictor needs to start from 0 otherwise it will try to predict also 0.\n",
        "        file = int(file[7:8]) - 1 \n",
        "        arr = mfccs, file\n",
        "        lst.append(arr)\n",
        "      # If the file is not valid, skip it\n",
        "      except ValueError:\n",
        "        continue\n",
        "\n",
        "print(\"--- Data loaded. Loading time: %s seconds ---\" % (time.time() - start_time))"
      ]
    },
    {
      "cell_type": "code",
      "execution_count": 7,
      "metadata": {
        "colab": {},
        "colab_type": "code",
        "id": "Mi8NEOUItS8f"
      },
      "outputs": [],
      "source": [
        "# Creating X and y: zip makes a list of all the first elements, and a list of all the second elements.\n",
        "X, y = zip(*lst)"
      ]
    },
    {
      "cell_type": "code",
      "execution_count": 8,
      "metadata": {
        "colab": {
          "base_uri": "https://localhost:8080/",
          "height": 34
        },
        "colab_type": "code",
        "id": "Gd6hsVYjukTK",
        "outputId": "8de85110-e0d5-4411-a5c6-523c117176dc"
      },
      "outputs": [
        {
          "data": {
            "text/plain": [
              "((2880, 40), (2880,))"
            ]
          },
          "execution_count": 8,
          "metadata": {},
          "output_type": "execute_result"
        }
      ],
      "source": [
        "import numpy as np\n",
        "X = np.asarray(X)\n",
        "y = np.asarray(y)\n",
        "\n",
        "\n",
        "X.shape, y.shape"
      ]
    },
    {
      "cell_type": "code",
      "execution_count": 10,
      "metadata": {
        "colab": {},
        "colab_type": "code",
        "id": "hK5XIQ4hunMH"
      },
      "outputs": [],
      "source": [
        "# Saving joblib files to not load them again with the loop above\n",
        "\n",
        "import joblib\n",
        "\n",
        "X_name = 'X.joblib'\n",
        "y_name = 'y.joblib'\n",
        "save_dir = 'Ravtess_model'\n",
        "\n",
        "savedX = joblib.dump(X, os.path.join(save_dir, X_name))\n",
        "savedy = joblib.dump(y, os.path.join(save_dir, y_name))"
      ]
    },
    {
      "cell_type": "code",
      "execution_count": 12,
      "metadata": {
        "colab": {},
        "colab_type": "code",
        "id": "iMEMavtnu2LB"
      },
      "outputs": [],
      "source": [
        "# Loading saved models\n",
        "import joblib\n",
        "X = joblib.load('/Ravtess_model/X.joblib')\n",
        "y = joblib.load('/Ravtess_model/y.joblib')"
      ]
    },
    {
      "cell_type": "markdown",
      "metadata": {
        "colab_type": "text",
        "id": "Agw-3KN1sDhh"
      },
      "source": [
        "# Decision Tree Classifier\n",
        "\n",
        "To make a first attempt in accomplishing this classification task I chose a decision tree:"
      ]
    },
    {
      "cell_type": "code",
      "execution_count": 13,
      "metadata": {
        "colab": {},
        "colab_type": "code",
        "id": "CR4t166IxGdi"
      },
      "outputs": [],
      "source": [
        "from sklearn.model_selection import train_test_split\n",
        "\n",
        "X_train, X_test, y_train, y_test = train_test_split(X,y, test_size=0.33, random_state=42)"
      ]
    },
    {
      "cell_type": "code",
      "execution_count": 14,
      "metadata": {
        "colab": {},
        "colab_type": "code",
        "id": "L_aIVuq9xKgn"
      },
      "outputs": [],
      "source": [
        "from sklearn.tree import DecisionTreeClassifier"
      ]
    },
    {
      "cell_type": "code",
      "execution_count": 15,
      "metadata": {
        "colab": {},
        "colab_type": "code",
        "id": "PRh12VK70wwh"
      },
      "outputs": [],
      "source": [
        "dtree = DecisionTreeClassifier()"
      ]
    },
    {
      "cell_type": "code",
      "execution_count": 16,
      "metadata": {
        "colab": {
          "base_uri": "https://localhost:8080/",
          "height": 122
        },
        "colab_type": "code",
        "id": "jBbgNaz50zPt",
        "outputId": "9c63f143-8108-426a-d682-36284c1634dc"
      },
      "outputs": [
        {
          "data": {
            "text/plain": [
              "DecisionTreeClassifier()"
            ]
          },
          "execution_count": 16,
          "metadata": {},
          "output_type": "execute_result"
        }
      ],
      "source": [
        "dtree.fit(X_train, y_train)"
      ]
    },
    {
      "cell_type": "code",
      "execution_count": 17,
      "metadata": {
        "colab": {},
        "colab_type": "code",
        "id": "xtx3jG6v01v1"
      },
      "outputs": [],
      "source": [
        "predictions = dtree.predict(X_test)"
      ]
    },
    {
      "cell_type": "code",
      "execution_count": 18,
      "metadata": {
        "colab": {
          "base_uri": "https://localhost:8080/",
          "height": 281
        },
        "colab_type": "code",
        "id": "mbWRTHjm06Hn",
        "outputId": "7510b3bb-df6e-4ce1-8ef2-94b019570bc7"
      },
      "outputs": [
        {
          "name": "stdout",
          "output_type": "stream",
          "text": [
            "              precision    recall  f1-score   support\n",
            "\n",
            "           0       0.75      0.66      0.70        65\n",
            "           1       0.89      0.86      0.87       128\n",
            "           2       0.82      0.79      0.80       125\n",
            "           3       0.82      0.81      0.82       126\n",
            "           4       0.82      0.83      0.82       128\n",
            "           5       0.73      0.88      0.80       112\n",
            "           6       0.78      0.78      0.78       146\n",
            "           7       0.81      0.77      0.79       121\n",
            "\n",
            "    accuracy                           0.80       951\n",
            "   macro avg       0.80      0.80      0.80       951\n",
            "weighted avg       0.81      0.80      0.80       951\n",
            "\n"
          ]
        }
      ],
      "source": [
        "from sklearn.metrics import classification_report,confusion_matrix\n",
        "print(classification_report(y_test,predictions))"
      ]
    },
    {
      "cell_type": "markdown",
      "metadata": {
        "colab_type": "text",
        "id": "t9eqMHV3S8i6"
      },
      "source": [
        "# Neural network"
      ]
    },
    {
      "cell_type": "code",
      "execution_count": 19,
      "metadata": {
        "colab": {},
        "colab_type": "code",
        "id": "nIhRgcH3B0gu"
      },
      "outputs": [],
      "source": [
        "import numpy as np\n",
        "x_traincnn = np.expand_dims(X_train, axis=2)\n",
        "x_testcnn = np.expand_dims(X_test, axis=2)"
      ]
    },
    {
      "cell_type": "code",
      "execution_count": 20,
      "metadata": {
        "colab": {
          "base_uri": "https://localhost:8080/",
          "height": 35
        },
        "colab_type": "code",
        "id": "XRg78iarB1OI",
        "outputId": "06b0191f-1dcd-416e-f0e3-01393bb73164"
      },
      "outputs": [
        {
          "data": {
            "text/plain": [
              "((1929, 40, 1), (951, 40, 1))"
            ]
          },
          "execution_count": 20,
          "metadata": {},
          "output_type": "execute_result"
        }
      ],
      "source": [
        "x_traincnn.shape, x_testcnn.shape"
      ]
    },
    {
      "cell_type": "code",
      "execution_count": 31,
      "metadata": {
        "colab": {
          "base_uri": "https://localhost:8080/",
          "height": 35
        },
        "colab_type": "code",
        "id": "LgYdhmGJB4ur",
        "outputId": "7e07341f-fbad-474c-fa50-b88991b23ebe"
      },
      "outputs": [],
      "source": [
        "import keras\n",
        "import numpy as np\n",
        "import matplotlib.pyplot as plt\n",
        "import tensorflow as tf\n",
        "from keras.preprocessing import sequence\n",
        "from keras.models import Sequential\n",
        "from keras.layers import Dense, Embedding\n",
        "from tensorflow.keras.utils import to_categorical\n",
        "from keras.layers import Input, Flatten, Dropout, Activation\n",
        "from keras.layers import Conv1D, MaxPooling1D\n",
        "from keras.models import Model\n",
        "from keras.callbacks import ModelCheckpoint\n",
        "\n",
        "\n",
        "model = Sequential()\n",
        "\n",
        "model.add(Conv1D(64, 5,padding='same',\n",
        "                 input_shape=(40,1)))\n",
        "model.add(Activation('relu'))\n",
        "model.add(Dropout(0.1))\n",
        "model.add(MaxPooling1D(pool_size=(4)))\n",
        "model.add(Conv1D(128, 5,padding='same',))\n",
        "model.add(Activation('relu'))\n",
        "model.add(Dropout(0.1))\n",
        "model.add(MaxPooling1D(pool_size=(4)))\n",
        "model.add(Conv1D(256, 5,padding='same',))\n",
        "model.add(Activation('relu'))\n",
        "model.add(Dropout(0.1))\n",
        "model.add(Flatten())\n",
        "model.add(Dense(8))\n",
        "model.add(Activation('softmax'))\n",
        "opt = tf.keras.optimizers.RMSprop(learning_rate=0.00005, rho=0.9, epsilon=1e-07, decay=0.0)"
      ]
    },
    {
      "cell_type": "code",
      "execution_count": 27,
      "metadata": {},
      "outputs": [
        {
          "name": "stdout",
          "output_type": "stream",
          "text": [
            "Collecting keras\n",
            "  Using cached keras-2.8.0-py2.py3-none-any.whl (1.4 MB)\n",
            "Installing collected packages: keras\n",
            "Successfully installed keras-2.8.0\n",
            "Note: you may need to restart the kernel to use updated packages.\n"
          ]
        }
      ],
      "source": [
        "pip install keras"
      ]
    },
    {
      "cell_type": "code",
      "execution_count": 32,
      "metadata": {
        "colab": {
          "base_uri": "https://localhost:8080/",
          "height": 657
        },
        "colab_type": "code",
        "id": "ImZFafVANMP_",
        "outputId": "d03e9f1d-9bd0-4a99-f9be-cf9b889d679a"
      },
      "outputs": [
        {
          "name": "stdout",
          "output_type": "stream",
          "text": [
            "Model: \"sequential_5\"\n",
            "_________________________________________________________________\n",
            " Layer (type)                Output Shape              Param #   \n",
            "=================================================================\n",
            " conv1d_15 (Conv1D)          (None, 40, 64)            384       \n",
            "                                                                 \n",
            " activation_20 (Activation)  (None, 40, 64)            0         \n",
            "                                                                 \n",
            " dropout_15 (Dropout)        (None, 40, 64)            0         \n",
            "                                                                 \n",
            " max_pooling1d_10 (MaxPoolin  (None, 10, 64)           0         \n",
            " g1D)                                                            \n",
            "                                                                 \n",
            " conv1d_16 (Conv1D)          (None, 10, 128)           41088     \n",
            "                                                                 \n",
            " activation_21 (Activation)  (None, 10, 128)           0         \n",
            "                                                                 \n",
            " dropout_16 (Dropout)        (None, 10, 128)           0         \n",
            "                                                                 \n",
            " max_pooling1d_11 (MaxPoolin  (None, 2, 128)           0         \n",
            " g1D)                                                            \n",
            "                                                                 \n",
            " conv1d_17 (Conv1D)          (None, 2, 256)            164096    \n",
            "                                                                 \n",
            " activation_22 (Activation)  (None, 2, 256)            0         \n",
            "                                                                 \n",
            " dropout_17 (Dropout)        (None, 2, 256)            0         \n",
            "                                                                 \n",
            " flatten_5 (Flatten)         (None, 512)               0         \n",
            "                                                                 \n",
            " dense_5 (Dense)             (None, 8)                 4104      \n",
            "                                                                 \n",
            " activation_23 (Activation)  (None, 8)                 0         \n",
            "                                                                 \n",
            "=================================================================\n",
            "Total params: 209,672\n",
            "Trainable params: 209,672\n",
            "Non-trainable params: 0\n",
            "_________________________________________________________________\n"
          ]
        }
      ],
      "source": [
        "model.summary()"
      ]
    },
    {
      "cell_type": "code",
      "execution_count": 33,
      "metadata": {
        "colab": {},
        "colab_type": "code",
        "id": "s8LuQtKzON7i"
      },
      "outputs": [],
      "source": [
        "model.compile(loss='sparse_categorical_crossentropy',\n",
        "              optimizer=opt,\n",
        "              metrics=['accuracy'])"
      ]
    },
    {
      "cell_type": "code",
      "execution_count": 34,
      "metadata": {
        "colab": {
          "base_uri": "https://localhost:8080/",
          "height": 1000
        },
        "colab_type": "code",
        "id": "cQKYfMONOow7",
        "outputId": "6fc8e1ad-5271-4f86-f238-fee2045ade1e"
      },
      "outputs": [
        {
          "name": "stdout",
          "output_type": "stream",
          "text": [
            "Epoch 1/200\n",
            "121/121 [==============================] - 1s 4ms/step - loss: 4.8576 - accuracy: 0.1358 - val_loss: 2.6614 - val_accuracy: 0.1314\n",
            "Epoch 2/200\n",
            "121/121 [==============================] - 0s 3ms/step - loss: 3.6898 - accuracy: 0.1529 - val_loss: 2.0663 - val_accuracy: 0.1893\n",
            "Epoch 3/200\n",
            "121/121 [==============================] - 0s 3ms/step - loss: 3.0604 - accuracy: 0.1700 - val_loss: 2.0733 - val_accuracy: 0.1209\n",
            "Epoch 4/200\n",
            "121/121 [==============================] - 0s 3ms/step - loss: 2.7072 - accuracy: 0.1617 - val_loss: 1.9852 - val_accuracy: 0.2261\n",
            "Epoch 5/200\n",
            "121/121 [==============================] - 0s 3ms/step - loss: 2.4439 - accuracy: 0.1799 - val_loss: 2.0190 - val_accuracy: 0.2040\n",
            "Epoch 6/200\n",
            "121/121 [==============================] - 0s 3ms/step - loss: 2.2504 - accuracy: 0.1949 - val_loss: 1.9113 - val_accuracy: 0.2450\n",
            "Epoch 7/200\n",
            "121/121 [==============================] - 0s 3ms/step - loss: 2.1506 - accuracy: 0.2094 - val_loss: 1.9417 - val_accuracy: 0.2271\n",
            "Epoch 8/200\n",
            "121/121 [==============================] - 0s 3ms/step - loss: 2.0916 - accuracy: 0.2177 - val_loss: 1.8975 - val_accuracy: 0.2471\n",
            "Epoch 9/200\n",
            "121/121 [==============================] - 0s 3ms/step - loss: 2.0609 - accuracy: 0.2338 - val_loss: 1.8891 - val_accuracy: 0.2471\n",
            "Epoch 10/200\n",
            "121/121 [==============================] - 0s 3ms/step - loss: 2.0090 - accuracy: 0.2359 - val_loss: 1.8418 - val_accuracy: 0.3134\n",
            "Epoch 11/200\n",
            "121/121 [==============================] - 0s 3ms/step - loss: 1.9959 - accuracy: 0.2333 - val_loss: 1.8696 - val_accuracy: 0.2482\n",
            "Epoch 12/200\n",
            "121/121 [==============================] - 0s 3ms/step - loss: 1.9805 - accuracy: 0.2525 - val_loss: 1.8333 - val_accuracy: 0.3123\n",
            "Epoch 13/200\n",
            "121/121 [==============================] - 0s 3ms/step - loss: 1.9485 - accuracy: 0.2452 - val_loss: 1.8176 - val_accuracy: 0.3049\n",
            "Epoch 14/200\n",
            "121/121 [==============================] - 0s 3ms/step - loss: 1.9210 - accuracy: 0.2805 - val_loss: 1.8209 - val_accuracy: 0.2997\n",
            "Epoch 15/200\n",
            "121/121 [==============================] - 0s 4ms/step - loss: 1.8855 - accuracy: 0.2872 - val_loss: 1.8335 - val_accuracy: 0.3091\n",
            "Epoch 16/200\n",
            "121/121 [==============================] - 0s 4ms/step - loss: 1.9057 - accuracy: 0.2722 - val_loss: 1.8432 - val_accuracy: 0.2850\n",
            "Epoch 17/200\n",
            "121/121 [==============================] - 0s 3ms/step - loss: 1.8800 - accuracy: 0.2820 - val_loss: 1.8311 - val_accuracy: 0.2902\n",
            "Epoch 18/200\n",
            "121/121 [==============================] - 0s 3ms/step - loss: 1.8516 - accuracy: 0.2836 - val_loss: 1.7912 - val_accuracy: 0.3365\n",
            "Epoch 19/200\n",
            "121/121 [==============================] - 0s 3ms/step - loss: 1.8497 - accuracy: 0.2784 - val_loss: 1.8000 - val_accuracy: 0.3155\n",
            "Epoch 20/200\n",
            "121/121 [==============================] - 0s 3ms/step - loss: 1.8439 - accuracy: 0.2929 - val_loss: 1.7697 - val_accuracy: 0.3460\n",
            "Epoch 21/200\n",
            "121/121 [==============================] - 0s 3ms/step - loss: 1.8284 - accuracy: 0.3059 - val_loss: 1.7536 - val_accuracy: 0.3428\n",
            "Epoch 22/200\n",
            "121/121 [==============================] - 0s 3ms/step - loss: 1.8278 - accuracy: 0.3074 - val_loss: 1.7429 - val_accuracy: 0.3344\n",
            "Epoch 23/200\n",
            "121/121 [==============================] - 0s 3ms/step - loss: 1.8118 - accuracy: 0.3079 - val_loss: 1.7407 - val_accuracy: 0.3502\n",
            "Epoch 24/200\n",
            "121/121 [==============================] - 0s 3ms/step - loss: 1.8044 - accuracy: 0.3188 - val_loss: 1.7524 - val_accuracy: 0.3396\n",
            "Epoch 25/200\n",
            "121/121 [==============================] - 0s 3ms/step - loss: 1.7882 - accuracy: 0.3110 - val_loss: 1.7142 - val_accuracy: 0.3617\n",
            "Epoch 26/200\n",
            "121/121 [==============================] - 0s 3ms/step - loss: 1.7732 - accuracy: 0.3240 - val_loss: 1.7048 - val_accuracy: 0.3649\n",
            "Epoch 27/200\n",
            "121/121 [==============================] - 0s 3ms/step - loss: 1.7854 - accuracy: 0.3240 - val_loss: 1.7062 - val_accuracy: 0.3460\n",
            "Epoch 28/200\n",
            "121/121 [==============================] - 0s 3ms/step - loss: 1.7474 - accuracy: 0.3302 - val_loss: 1.6933 - val_accuracy: 0.3607\n",
            "Epoch 29/200\n",
            "121/121 [==============================] - 0s 3ms/step - loss: 1.7507 - accuracy: 0.3240 - val_loss: 1.7079 - val_accuracy: 0.3670\n",
            "Epoch 30/200\n",
            "121/121 [==============================] - 0s 3ms/step - loss: 1.7310 - accuracy: 0.3463 - val_loss: 1.6736 - val_accuracy: 0.3743\n",
            "Epoch 31/200\n",
            "121/121 [==============================] - 0s 3ms/step - loss: 1.7441 - accuracy: 0.3380 - val_loss: 1.6661 - val_accuracy: 0.3565\n",
            "Epoch 32/200\n",
            "121/121 [==============================] - 0s 3ms/step - loss: 1.7138 - accuracy: 0.3551 - val_loss: 1.6658 - val_accuracy: 0.3722\n",
            "Epoch 33/200\n",
            "121/121 [==============================] - 0s 3ms/step - loss: 1.7030 - accuracy: 0.3587 - val_loss: 1.6460 - val_accuracy: 0.3828\n",
            "Epoch 34/200\n",
            "121/121 [==============================] - 0s 4ms/step - loss: 1.6998 - accuracy: 0.3634 - val_loss: 1.6568 - val_accuracy: 0.3249\n",
            "Epoch 35/200\n",
            "121/121 [==============================] - 0s 3ms/step - loss: 1.6704 - accuracy: 0.3810 - val_loss: 1.6401 - val_accuracy: 0.3901\n",
            "Epoch 36/200\n",
            "121/121 [==============================] - 0s 3ms/step - loss: 1.6843 - accuracy: 0.3660 - val_loss: 1.6471 - val_accuracy: 0.3891\n",
            "Epoch 37/200\n",
            "121/121 [==============================] - 0s 3ms/step - loss: 1.6658 - accuracy: 0.3655 - val_loss: 1.6361 - val_accuracy: 0.3975\n",
            "Epoch 38/200\n",
            "121/121 [==============================] - 0s 3ms/step - loss: 1.6362 - accuracy: 0.3909 - val_loss: 1.6179 - val_accuracy: 0.3880\n",
            "Epoch 39/200\n",
            "121/121 [==============================] - 0s 3ms/step - loss: 1.6648 - accuracy: 0.3764 - val_loss: 1.6135 - val_accuracy: 0.3964\n",
            "Epoch 40/200\n",
            "121/121 [==============================] - 0s 3ms/step - loss: 1.6140 - accuracy: 0.3955 - val_loss: 1.5915 - val_accuracy: 0.4185\n",
            "Epoch 41/200\n",
            "121/121 [==============================] - 0s 3ms/step - loss: 1.6331 - accuracy: 0.3815 - val_loss: 1.6527 - val_accuracy: 0.3933\n",
            "Epoch 42/200\n",
            "121/121 [==============================] - 0s 3ms/step - loss: 1.6159 - accuracy: 0.3810 - val_loss: 1.5808 - val_accuracy: 0.4164\n",
            "Epoch 43/200\n",
            "121/121 [==============================] - 0s 3ms/step - loss: 1.6239 - accuracy: 0.3950 - val_loss: 1.5734 - val_accuracy: 0.4175\n",
            "Epoch 44/200\n",
            "121/121 [==============================] - 0s 3ms/step - loss: 1.6186 - accuracy: 0.3774 - val_loss: 1.5817 - val_accuracy: 0.3985\n",
            "Epoch 45/200\n",
            "121/121 [==============================] - 0s 3ms/step - loss: 1.5981 - accuracy: 0.3914 - val_loss: 1.5791 - val_accuracy: 0.4111\n",
            "Epoch 46/200\n",
            "121/121 [==============================] - 0s 3ms/step - loss: 1.5732 - accuracy: 0.4054 - val_loss: 1.5507 - val_accuracy: 0.4111\n",
            "Epoch 47/200\n",
            "121/121 [==============================] - 0s 3ms/step - loss: 1.5733 - accuracy: 0.4173 - val_loss: 1.5634 - val_accuracy: 0.4090\n",
            "Epoch 48/200\n",
            "121/121 [==============================] - 0s 3ms/step - loss: 1.5748 - accuracy: 0.4142 - val_loss: 1.5510 - val_accuracy: 0.4238\n",
            "Epoch 49/200\n",
            "121/121 [==============================] - 0s 3ms/step - loss: 1.5550 - accuracy: 0.4194 - val_loss: 1.5198 - val_accuracy: 0.4353\n",
            "Epoch 50/200\n",
            "121/121 [==============================] - 0s 3ms/step - loss: 1.5594 - accuracy: 0.4173 - val_loss: 1.5333 - val_accuracy: 0.4238\n",
            "Epoch 51/200\n",
            "121/121 [==============================] - 0s 3ms/step - loss: 1.5348 - accuracy: 0.4308 - val_loss: 1.5737 - val_accuracy: 0.4132\n",
            "Epoch 52/200\n",
            "121/121 [==============================] - 0s 4ms/step - loss: 1.5403 - accuracy: 0.4277 - val_loss: 1.5342 - val_accuracy: 0.4259\n",
            "Epoch 53/200\n",
            "121/121 [==============================] - 0s 3ms/step - loss: 1.5291 - accuracy: 0.4235 - val_loss: 1.5276 - val_accuracy: 0.4374\n",
            "Epoch 54/200\n",
            "121/121 [==============================] - 0s 3ms/step - loss: 1.5257 - accuracy: 0.4303 - val_loss: 1.4804 - val_accuracy: 0.4301\n",
            "Epoch 55/200\n",
            "121/121 [==============================] - 0s 3ms/step - loss: 1.5026 - accuracy: 0.4463 - val_loss: 1.4789 - val_accuracy: 0.4364\n",
            "Epoch 56/200\n",
            "121/121 [==============================] - 0s 3ms/step - loss: 1.4956 - accuracy: 0.4386 - val_loss: 1.4766 - val_accuracy: 0.4585\n",
            "Epoch 57/200\n",
            "121/121 [==============================] - 0s 3ms/step - loss: 1.4782 - accuracy: 0.4552 - val_loss: 1.4560 - val_accuracy: 0.4553\n",
            "Epoch 58/200\n",
            "121/121 [==============================] - 0s 3ms/step - loss: 1.4963 - accuracy: 0.4412 - val_loss: 1.4684 - val_accuracy: 0.4427\n",
            "Epoch 59/200\n",
            "121/121 [==============================] - 0s 3ms/step - loss: 1.4809 - accuracy: 0.4443 - val_loss: 1.4342 - val_accuracy: 0.4711\n",
            "Epoch 60/200\n",
            "121/121 [==============================] - 0s 3ms/step - loss: 1.4731 - accuracy: 0.4484 - val_loss: 1.4330 - val_accuracy: 0.4837\n",
            "Epoch 61/200\n",
            "121/121 [==============================] - 0s 3ms/step - loss: 1.4821 - accuracy: 0.4500 - val_loss: 1.4312 - val_accuracy: 0.4890\n",
            "Epoch 62/200\n",
            "121/121 [==============================] - 0s 3ms/step - loss: 1.4521 - accuracy: 0.4717 - val_loss: 1.4287 - val_accuracy: 0.4784\n",
            "Epoch 63/200\n",
            "121/121 [==============================] - 0s 3ms/step - loss: 1.4424 - accuracy: 0.4702 - val_loss: 1.4465 - val_accuracy: 0.4585\n",
            "Epoch 64/200\n",
            "121/121 [==============================] - 0s 3ms/step - loss: 1.4567 - accuracy: 0.4572 - val_loss: 1.3968 - val_accuracy: 0.4974\n",
            "Epoch 65/200\n",
            "121/121 [==============================] - 0s 3ms/step - loss: 1.4223 - accuracy: 0.4774 - val_loss: 1.4038 - val_accuracy: 0.4974\n",
            "Epoch 66/200\n",
            "121/121 [==============================] - 0s 3ms/step - loss: 1.4299 - accuracy: 0.4842 - val_loss: 1.4473 - val_accuracy: 0.4595\n",
            "Epoch 67/200\n",
            "121/121 [==============================] - 0s 3ms/step - loss: 1.4253 - accuracy: 0.4733 - val_loss: 1.3781 - val_accuracy: 0.5058\n",
            "Epoch 68/200\n",
            "121/121 [==============================] - 0s 3ms/step - loss: 1.3965 - accuracy: 0.4920 - val_loss: 1.4398 - val_accuracy: 0.4648\n",
            "Epoch 69/200\n",
            "121/121 [==============================] - 0s 4ms/step - loss: 1.3938 - accuracy: 0.4842 - val_loss: 1.3790 - val_accuracy: 0.5026\n",
            "Epoch 70/200\n",
            "121/121 [==============================] - 1s 4ms/step - loss: 1.3997 - accuracy: 0.4852 - val_loss: 1.3696 - val_accuracy: 0.5195\n",
            "Epoch 71/200\n",
            "121/121 [==============================] - 0s 4ms/step - loss: 1.3717 - accuracy: 0.5023 - val_loss: 1.3764 - val_accuracy: 0.5068\n",
            "Epoch 72/200\n",
            "121/121 [==============================] - 0s 4ms/step - loss: 1.3755 - accuracy: 0.4920 - val_loss: 1.3852 - val_accuracy: 0.4879\n",
            "Epoch 73/200\n",
            "121/121 [==============================] - 0s 4ms/step - loss: 1.3624 - accuracy: 0.4909 - val_loss: 1.3751 - val_accuracy: 0.4974\n",
            "Epoch 74/200\n",
            "121/121 [==============================] - 0s 4ms/step - loss: 1.3578 - accuracy: 0.4961 - val_loss: 1.3473 - val_accuracy: 0.5089\n",
            "Epoch 75/200\n",
            "121/121 [==============================] - 0s 4ms/step - loss: 1.3326 - accuracy: 0.5200 - val_loss: 1.3602 - val_accuracy: 0.4995\n",
            "Epoch 76/200\n",
            "121/121 [==============================] - 0s 4ms/step - loss: 1.3460 - accuracy: 0.5153 - val_loss: 1.3629 - val_accuracy: 0.5110\n",
            "Epoch 77/200\n",
            "121/121 [==============================] - 0s 4ms/step - loss: 1.3203 - accuracy: 0.5117 - val_loss: 1.3963 - val_accuracy: 0.4848\n",
            "Epoch 78/200\n",
            "121/121 [==============================] - 0s 4ms/step - loss: 1.3191 - accuracy: 0.5241 - val_loss: 1.3515 - val_accuracy: 0.5205\n",
            "Epoch 79/200\n",
            "121/121 [==============================] - 0s 4ms/step - loss: 1.2926 - accuracy: 0.5122 - val_loss: 1.3336 - val_accuracy: 0.5121\n",
            "Epoch 80/200\n",
            "121/121 [==============================] - 0s 4ms/step - loss: 1.3162 - accuracy: 0.5132 - val_loss: 1.3104 - val_accuracy: 0.5226\n",
            "Epoch 81/200\n",
            "121/121 [==============================] - 0s 4ms/step - loss: 1.2837 - accuracy: 0.5241 - val_loss: 1.3167 - val_accuracy: 0.5174\n",
            "Epoch 82/200\n",
            "121/121 [==============================] - 1s 4ms/step - loss: 1.2982 - accuracy: 0.5262 - val_loss: 1.3930 - val_accuracy: 0.4858\n",
            "Epoch 83/200\n",
            "121/121 [==============================] - 0s 4ms/step - loss: 1.2733 - accuracy: 0.5283 - val_loss: 1.3497 - val_accuracy: 0.5184\n",
            "Epoch 84/200\n",
            "121/121 [==============================] - 1s 4ms/step - loss: 1.2918 - accuracy: 0.5241 - val_loss: 1.3285 - val_accuracy: 0.5174\n",
            "Epoch 85/200\n",
            "121/121 [==============================] - 1s 4ms/step - loss: 1.2561 - accuracy: 0.5407 - val_loss: 1.3268 - val_accuracy: 0.5131\n",
            "Epoch 86/200\n",
            "121/121 [==============================] - 0s 4ms/step - loss: 1.2825 - accuracy: 0.5251 - val_loss: 1.3055 - val_accuracy: 0.5405\n",
            "Epoch 87/200\n",
            "121/121 [==============================] - 0s 4ms/step - loss: 1.2633 - accuracy: 0.5443 - val_loss: 1.2602 - val_accuracy: 0.5594\n",
            "Epoch 88/200\n",
            "121/121 [==============================] - 0s 4ms/step - loss: 1.2445 - accuracy: 0.5521 - val_loss: 1.2487 - val_accuracy: 0.5405\n",
            "Epoch 89/200\n",
            "121/121 [==============================] - 0s 4ms/step - loss: 1.2439 - accuracy: 0.5500 - val_loss: 1.2549 - val_accuracy: 0.5678\n",
            "Epoch 90/200\n",
            "121/121 [==============================] - 1s 4ms/step - loss: 1.2245 - accuracy: 0.5552 - val_loss: 1.2483 - val_accuracy: 0.5594\n",
            "Epoch 91/200\n",
            "121/121 [==============================] - 0s 4ms/step - loss: 1.2367 - accuracy: 0.5407 - val_loss: 1.2648 - val_accuracy: 0.5584\n",
            "Epoch 92/200\n",
            "121/121 [==============================] - 0s 4ms/step - loss: 1.2045 - accuracy: 0.5728 - val_loss: 1.2446 - val_accuracy: 0.5521\n",
            "Epoch 93/200\n",
            "121/121 [==============================] - 0s 4ms/step - loss: 1.1990 - accuracy: 0.5614 - val_loss: 1.2301 - val_accuracy: 0.5731\n",
            "Epoch 94/200\n",
            "121/121 [==============================] - 0s 4ms/step - loss: 1.2048 - accuracy: 0.5609 - val_loss: 1.2813 - val_accuracy: 0.5373\n",
            "Epoch 95/200\n",
            "121/121 [==============================] - 0s 4ms/step - loss: 1.2278 - accuracy: 0.5511 - val_loss: 1.2506 - val_accuracy: 0.5594\n",
            "Epoch 96/200\n",
            "121/121 [==============================] - 0s 4ms/step - loss: 1.1683 - accuracy: 0.5816 - val_loss: 1.2542 - val_accuracy: 0.5720\n",
            "Epoch 97/200\n",
            "121/121 [==============================] - 0s 4ms/step - loss: 1.2031 - accuracy: 0.5531 - val_loss: 1.2267 - val_accuracy: 0.5499\n",
            "Epoch 98/200\n",
            "121/121 [==============================] - 0s 4ms/step - loss: 1.1945 - accuracy: 0.5573 - val_loss: 1.2176 - val_accuracy: 0.5678\n",
            "Epoch 99/200\n",
            "121/121 [==============================] - 0s 4ms/step - loss: 1.1753 - accuracy: 0.5682 - val_loss: 1.2043 - val_accuracy: 0.5741\n",
            "Epoch 100/200\n",
            "121/121 [==============================] - 0s 4ms/step - loss: 1.1682 - accuracy: 0.5697 - val_loss: 1.2279 - val_accuracy: 0.5741\n",
            "Epoch 101/200\n",
            "121/121 [==============================] - 1s 4ms/step - loss: 1.1623 - accuracy: 0.5718 - val_loss: 1.2050 - val_accuracy: 0.5699\n",
            "Epoch 102/200\n",
            "121/121 [==============================] - 0s 4ms/step - loss: 1.1326 - accuracy: 0.5889 - val_loss: 1.2115 - val_accuracy: 0.5731\n",
            "Epoch 103/200\n",
            "121/121 [==============================] - 1s 4ms/step - loss: 1.1401 - accuracy: 0.5905 - val_loss: 1.2191 - val_accuracy: 0.5594\n",
            "Epoch 104/200\n",
            "121/121 [==============================] - 0s 4ms/step - loss: 1.1417 - accuracy: 0.5874 - val_loss: 1.1971 - val_accuracy: 0.5626\n",
            "Epoch 105/200\n",
            "121/121 [==============================] - 1s 4ms/step - loss: 1.1677 - accuracy: 0.5842 - val_loss: 1.2146 - val_accuracy: 0.5542\n",
            "Epoch 106/200\n",
            "121/121 [==============================] - 0s 4ms/step - loss: 1.1159 - accuracy: 0.5915 - val_loss: 1.1862 - val_accuracy: 0.5699\n",
            "Epoch 107/200\n",
            "121/121 [==============================] - 0s 4ms/step - loss: 1.1292 - accuracy: 0.5744 - val_loss: 1.1708 - val_accuracy: 0.5773\n",
            "Epoch 108/200\n",
            "121/121 [==============================] - 0s 4ms/step - loss: 1.1320 - accuracy: 0.5879 - val_loss: 1.1850 - val_accuracy: 0.5741\n",
            "Epoch 109/200\n",
            "121/121 [==============================] - 0s 4ms/step - loss: 1.1233 - accuracy: 0.5993 - val_loss: 1.1729 - val_accuracy: 0.5836\n",
            "Epoch 110/200\n",
            "121/121 [==============================] - 0s 4ms/step - loss: 1.1068 - accuracy: 0.5910 - val_loss: 1.2141 - val_accuracy: 0.5804\n",
            "Epoch 111/200\n",
            "121/121 [==============================] - 0s 4ms/step - loss: 1.0934 - accuracy: 0.6039 - val_loss: 1.1692 - val_accuracy: 0.5657\n",
            "Epoch 112/200\n",
            "121/121 [==============================] - 0s 4ms/step - loss: 1.1167 - accuracy: 0.5931 - val_loss: 1.1780 - val_accuracy: 0.5762\n",
            "Epoch 113/200\n",
            "121/121 [==============================] - 0s 4ms/step - loss: 1.0778 - accuracy: 0.6169 - val_loss: 1.1442 - val_accuracy: 0.6036\n",
            "Epoch 114/200\n",
            "121/121 [==============================] - 0s 4ms/step - loss: 1.0940 - accuracy: 0.6039 - val_loss: 1.1478 - val_accuracy: 0.5983\n",
            "Epoch 115/200\n",
            "121/121 [==============================] - 1s 4ms/step - loss: 1.0909 - accuracy: 0.6159 - val_loss: 1.1455 - val_accuracy: 0.5952\n",
            "Epoch 116/200\n",
            "121/121 [==============================] - 0s 4ms/step - loss: 1.0767 - accuracy: 0.6060 - val_loss: 1.1380 - val_accuracy: 0.5878\n",
            "Epoch 117/200\n",
            "121/121 [==============================] - 0s 4ms/step - loss: 1.0561 - accuracy: 0.6102 - val_loss: 1.2041 - val_accuracy: 0.5689\n",
            "Epoch 118/200\n",
            "121/121 [==============================] - 0s 4ms/step - loss: 1.0705 - accuracy: 0.6174 - val_loss: 1.1346 - val_accuracy: 0.5878\n",
            "Epoch 119/200\n",
            "121/121 [==============================] - 0s 4ms/step - loss: 1.0650 - accuracy: 0.6081 - val_loss: 1.1740 - val_accuracy: 0.5783\n",
            "Epoch 120/200\n",
            "121/121 [==============================] - 0s 4ms/step - loss: 1.0475 - accuracy: 0.6267 - val_loss: 1.1270 - val_accuracy: 0.5994\n",
            "Epoch 121/200\n",
            "121/121 [==============================] - 0s 4ms/step - loss: 1.0313 - accuracy: 0.6356 - val_loss: 1.1779 - val_accuracy: 0.5815\n",
            "Epoch 122/200\n",
            "121/121 [==============================] - 0s 4ms/step - loss: 1.0487 - accuracy: 0.6319 - val_loss: 1.0947 - val_accuracy: 0.6025\n",
            "Epoch 123/200\n",
            "121/121 [==============================] - 0s 4ms/step - loss: 1.0211 - accuracy: 0.6340 - val_loss: 1.1278 - val_accuracy: 0.5962\n",
            "Epoch 124/200\n",
            "121/121 [==============================] - 0s 4ms/step - loss: 1.0296 - accuracy: 0.6382 - val_loss: 1.1025 - val_accuracy: 0.6120\n",
            "Epoch 125/200\n",
            "121/121 [==============================] - 0s 4ms/step - loss: 1.0182 - accuracy: 0.6236 - val_loss: 1.0963 - val_accuracy: 0.6130\n",
            "Epoch 126/200\n",
            "121/121 [==============================] - 0s 4ms/step - loss: 1.0149 - accuracy: 0.6423 - val_loss: 1.0800 - val_accuracy: 0.6288\n",
            "Epoch 127/200\n",
            "121/121 [==============================] - 0s 4ms/step - loss: 1.0250 - accuracy: 0.6236 - val_loss: 1.0931 - val_accuracy: 0.6183\n",
            "Epoch 128/200\n",
            "121/121 [==============================] - 0s 4ms/step - loss: 1.0093 - accuracy: 0.6413 - val_loss: 1.1057 - val_accuracy: 0.6004\n",
            "Epoch 129/200\n",
            "121/121 [==============================] - 1s 4ms/step - loss: 1.0133 - accuracy: 0.6397 - val_loss: 1.0833 - val_accuracy: 0.6172\n",
            "Epoch 130/200\n",
            "121/121 [==============================] - 1s 5ms/step - loss: 0.9736 - accuracy: 0.6459 - val_loss: 1.0976 - val_accuracy: 0.6141\n",
            "Epoch 131/200\n",
            "121/121 [==============================] - 1s 5ms/step - loss: 0.9886 - accuracy: 0.6496 - val_loss: 1.1123 - val_accuracy: 0.6120\n",
            "Epoch 132/200\n",
            "121/121 [==============================] - 1s 4ms/step - loss: 0.9750 - accuracy: 0.6496 - val_loss: 1.0600 - val_accuracy: 0.6330\n",
            "Epoch 133/200\n",
            "121/121 [==============================] - 0s 4ms/step - loss: 0.9822 - accuracy: 0.6444 - val_loss: 1.0824 - val_accuracy: 0.6278\n",
            "Epoch 134/200\n",
            "121/121 [==============================] - 1s 5ms/step - loss: 0.9707 - accuracy: 0.6397 - val_loss: 1.0845 - val_accuracy: 0.6320\n",
            "Epoch 135/200\n",
            "121/121 [==============================] - 1s 4ms/step - loss: 0.9707 - accuracy: 0.6532 - val_loss: 1.1160 - val_accuracy: 0.6046\n",
            "Epoch 136/200\n",
            "121/121 [==============================] - 1s 5ms/step - loss: 0.9567 - accuracy: 0.6547 - val_loss: 1.0896 - val_accuracy: 0.6015\n",
            "Epoch 137/200\n",
            "121/121 [==============================] - 1s 4ms/step - loss: 0.9610 - accuracy: 0.6516 - val_loss: 1.0417 - val_accuracy: 0.6162\n",
            "Epoch 138/200\n",
            "121/121 [==============================] - 1s 4ms/step - loss: 0.9292 - accuracy: 0.6724 - val_loss: 1.0599 - val_accuracy: 0.6288\n",
            "Epoch 139/200\n",
            "121/121 [==============================] - 1s 4ms/step - loss: 0.9508 - accuracy: 0.6558 - val_loss: 1.0814 - val_accuracy: 0.6246\n",
            "Epoch 140/200\n",
            "121/121 [==============================] - 1s 4ms/step - loss: 0.9389 - accuracy: 0.6636 - val_loss: 1.0481 - val_accuracy: 0.6172\n",
            "Epoch 141/200\n",
            "121/121 [==============================] - 1s 4ms/step - loss: 0.9432 - accuracy: 0.6604 - val_loss: 1.0225 - val_accuracy: 0.6467\n",
            "Epoch 142/200\n",
            "121/121 [==============================] - 0s 4ms/step - loss: 0.9306 - accuracy: 0.6858 - val_loss: 1.0264 - val_accuracy: 0.6267\n",
            "Epoch 143/200\n",
            "121/121 [==============================] - 0s 4ms/step - loss: 0.9165 - accuracy: 0.6776 - val_loss: 1.0274 - val_accuracy: 0.6330\n",
            "Epoch 144/200\n",
            "121/121 [==============================] - 0s 4ms/step - loss: 0.9237 - accuracy: 0.6843 - val_loss: 1.1210 - val_accuracy: 0.6162\n",
            "Epoch 145/200\n",
            "121/121 [==============================] - 0s 4ms/step - loss: 0.9031 - accuracy: 0.6776 - val_loss: 1.0110 - val_accuracy: 0.6425\n",
            "Epoch 146/200\n",
            "121/121 [==============================] - 1s 4ms/step - loss: 0.9081 - accuracy: 0.6744 - val_loss: 1.0287 - val_accuracy: 0.6299\n",
            "Epoch 147/200\n",
            "121/121 [==============================] - 0s 4ms/step - loss: 0.9183 - accuracy: 0.6729 - val_loss: 1.0309 - val_accuracy: 0.6404\n",
            "Epoch 148/200\n",
            "121/121 [==============================] - 0s 4ms/step - loss: 0.8785 - accuracy: 0.6952 - val_loss: 1.0023 - val_accuracy: 0.6646\n",
            "Epoch 149/200\n",
            "121/121 [==============================] - 0s 4ms/step - loss: 0.8830 - accuracy: 0.6858 - val_loss: 1.0223 - val_accuracy: 0.6404\n",
            "Epoch 150/200\n",
            "121/121 [==============================] - 0s 4ms/step - loss: 0.8900 - accuracy: 0.6843 - val_loss: 1.0199 - val_accuracy: 0.6456\n",
            "Epoch 151/200\n",
            "121/121 [==============================] - 0s 4ms/step - loss: 0.8898 - accuracy: 0.6884 - val_loss: 1.0520 - val_accuracy: 0.6215\n",
            "Epoch 152/200\n",
            "121/121 [==============================] - 0s 4ms/step - loss: 0.8736 - accuracy: 0.6962 - val_loss: 1.0199 - val_accuracy: 0.6351\n",
            "Epoch 153/200\n",
            "121/121 [==============================] - 0s 4ms/step - loss: 0.8799 - accuracy: 0.6864 - val_loss: 1.0016 - val_accuracy: 0.6477\n",
            "Epoch 154/200\n",
            "121/121 [==============================] - 0s 4ms/step - loss: 0.8645 - accuracy: 0.6993 - val_loss: 1.0535 - val_accuracy: 0.6193\n",
            "Epoch 155/200\n",
            "121/121 [==============================] - 0s 4ms/step - loss: 0.8732 - accuracy: 0.6843 - val_loss: 0.9845 - val_accuracy: 0.6540\n",
            "Epoch 156/200\n",
            "121/121 [==============================] - 1s 4ms/step - loss: 0.8715 - accuracy: 0.6838 - val_loss: 1.0303 - val_accuracy: 0.6225\n",
            "Epoch 157/200\n",
            "121/121 [==============================] - 1s 4ms/step - loss: 0.8568 - accuracy: 0.6895 - val_loss: 0.9665 - val_accuracy: 0.6635\n",
            "Epoch 158/200\n",
            "121/121 [==============================] - 0s 4ms/step - loss: 0.8441 - accuracy: 0.7035 - val_loss: 0.9530 - val_accuracy: 0.6698\n",
            "Epoch 159/200\n",
            "121/121 [==============================] - 1s 4ms/step - loss: 0.8450 - accuracy: 0.6921 - val_loss: 0.9561 - val_accuracy: 0.6677\n",
            "Epoch 160/200\n",
            "121/121 [==============================] - 0s 4ms/step - loss: 0.8380 - accuracy: 0.6978 - val_loss: 1.0132 - val_accuracy: 0.6446\n",
            "Epoch 161/200\n",
            "121/121 [==============================] - 0s 4ms/step - loss: 0.8552 - accuracy: 0.6910 - val_loss: 0.9550 - val_accuracy: 0.6688\n",
            "Epoch 162/200\n",
            "121/121 [==============================] - 0s 4ms/step - loss: 0.8458 - accuracy: 0.6978 - val_loss: 0.9767 - val_accuracy: 0.6530\n",
            "Epoch 163/200\n",
            "121/121 [==============================] - 0s 4ms/step - loss: 0.8269 - accuracy: 0.7102 - val_loss: 0.9916 - val_accuracy: 0.6604\n",
            "Epoch 164/200\n",
            "121/121 [==============================] - 0s 4ms/step - loss: 0.8175 - accuracy: 0.7097 - val_loss: 0.9515 - val_accuracy: 0.6751\n",
            "Epoch 165/200\n",
            "121/121 [==============================] - 0s 4ms/step - loss: 0.8220 - accuracy: 0.7055 - val_loss: 0.9334 - val_accuracy: 0.6698\n",
            "Epoch 166/200\n",
            "121/121 [==============================] - 0s 4ms/step - loss: 0.8220 - accuracy: 0.7112 - val_loss: 0.9426 - val_accuracy: 0.6646\n",
            "Epoch 167/200\n",
            "121/121 [==============================] - 1s 4ms/step - loss: 0.8124 - accuracy: 0.7185 - val_loss: 0.9449 - val_accuracy: 0.6646\n",
            "Epoch 168/200\n",
            "121/121 [==============================] - 0s 4ms/step - loss: 0.8024 - accuracy: 0.7081 - val_loss: 0.9665 - val_accuracy: 0.6562\n",
            "Epoch 169/200\n",
            "121/121 [==============================] - 0s 4ms/step - loss: 0.7994 - accuracy: 0.7284 - val_loss: 0.9277 - val_accuracy: 0.6803\n",
            "Epoch 170/200\n",
            "121/121 [==============================] - 0s 4ms/step - loss: 0.7845 - accuracy: 0.7294 - val_loss: 0.9569 - val_accuracy: 0.6719\n",
            "Epoch 171/200\n",
            "121/121 [==============================] - 0s 4ms/step - loss: 0.7722 - accuracy: 0.7273 - val_loss: 0.9352 - val_accuracy: 0.6803\n",
            "Epoch 172/200\n",
            "121/121 [==============================] - 0s 4ms/step - loss: 0.7973 - accuracy: 0.7164 - val_loss: 0.9246 - val_accuracy: 0.6835\n",
            "Epoch 173/200\n",
            "121/121 [==============================] - 1s 4ms/step - loss: 0.7681 - accuracy: 0.7372 - val_loss: 0.9358 - val_accuracy: 0.6835\n",
            "Epoch 174/200\n",
            "121/121 [==============================] - 0s 4ms/step - loss: 0.7779 - accuracy: 0.7304 - val_loss: 0.9139 - val_accuracy: 0.6919\n",
            "Epoch 175/200\n",
            "121/121 [==============================] - 0s 4ms/step - loss: 0.7642 - accuracy: 0.7299 - val_loss: 0.9405 - val_accuracy: 0.6667\n",
            "Epoch 176/200\n",
            "121/121 [==============================] - 0s 4ms/step - loss: 0.7795 - accuracy: 0.7304 - val_loss: 0.9408 - val_accuracy: 0.6751\n",
            "Epoch 177/200\n",
            "121/121 [==============================] - 0s 4ms/step - loss: 0.7638 - accuracy: 0.7232 - val_loss: 0.9583 - val_accuracy: 0.6635\n",
            "Epoch 178/200\n",
            "121/121 [==============================] - 0s 4ms/step - loss: 0.7533 - accuracy: 0.7429 - val_loss: 0.9048 - val_accuracy: 0.6814\n",
            "Epoch 179/200\n",
            "121/121 [==============================] - 0s 4ms/step - loss: 0.7632 - accuracy: 0.7258 - val_loss: 0.9054 - val_accuracy: 0.6961\n",
            "Epoch 180/200\n",
            "121/121 [==============================] - 0s 4ms/step - loss: 0.7643 - accuracy: 0.7382 - val_loss: 0.8944 - val_accuracy: 0.6835\n",
            "Epoch 181/200\n",
            "121/121 [==============================] - 0s 4ms/step - loss: 0.7638 - accuracy: 0.7372 - val_loss: 0.9066 - val_accuracy: 0.6845\n",
            "Epoch 182/200\n",
            "121/121 [==============================] - 0s 4ms/step - loss: 0.7333 - accuracy: 0.7449 - val_loss: 0.9216 - val_accuracy: 0.6856\n",
            "Epoch 183/200\n",
            "121/121 [==============================] - 0s 4ms/step - loss: 0.7519 - accuracy: 0.7418 - val_loss: 0.8732 - val_accuracy: 0.6930\n",
            "Epoch 184/200\n",
            "121/121 [==============================] - 0s 4ms/step - loss: 0.7044 - accuracy: 0.7631 - val_loss: 0.8799 - val_accuracy: 0.7014\n",
            "Epoch 185/200\n",
            "121/121 [==============================] - 0s 4ms/step - loss: 0.7463 - accuracy: 0.7481 - val_loss: 0.8647 - val_accuracy: 0.7045\n",
            "Epoch 186/200\n",
            "121/121 [==============================] - 0s 4ms/step - loss: 0.7063 - accuracy: 0.7522 - val_loss: 0.8953 - val_accuracy: 0.6856\n",
            "Epoch 187/200\n",
            "121/121 [==============================] - 0s 4ms/step - loss: 0.7139 - accuracy: 0.7455 - val_loss: 0.9127 - val_accuracy: 0.6909\n",
            "Epoch 188/200\n",
            "121/121 [==============================] - 0s 4ms/step - loss: 0.7162 - accuracy: 0.7527 - val_loss: 0.8739 - val_accuracy: 0.6856\n",
            "Epoch 189/200\n",
            "121/121 [==============================] - 0s 4ms/step - loss: 0.7263 - accuracy: 0.7408 - val_loss: 0.8472 - val_accuracy: 0.7098\n",
            "Epoch 190/200\n",
            "121/121 [==============================] - 1s 4ms/step - loss: 0.7074 - accuracy: 0.7595 - val_loss: 0.8535 - val_accuracy: 0.7014\n",
            "Epoch 191/200\n",
            "121/121 [==============================] - 0s 4ms/step - loss: 0.7072 - accuracy: 0.7481 - val_loss: 0.9349 - val_accuracy: 0.6772\n",
            "Epoch 192/200\n",
            "121/121 [==============================] - 0s 4ms/step - loss: 0.7288 - accuracy: 0.7444 - val_loss: 0.8530 - val_accuracy: 0.7045\n",
            "Epoch 193/200\n",
            "121/121 [==============================] - 0s 4ms/step - loss: 0.6954 - accuracy: 0.7564 - val_loss: 0.8513 - val_accuracy: 0.6982\n",
            "Epoch 194/200\n",
            "121/121 [==============================] - 0s 4ms/step - loss: 0.7028 - accuracy: 0.7496 - val_loss: 0.8776 - val_accuracy: 0.6909\n",
            "Epoch 195/200\n",
            "121/121 [==============================] - 0s 4ms/step - loss: 0.6951 - accuracy: 0.7512 - val_loss: 0.8575 - val_accuracy: 0.7140\n",
            "Epoch 196/200\n",
            "121/121 [==============================] - 0s 4ms/step - loss: 0.6801 - accuracy: 0.7683 - val_loss: 0.8772 - val_accuracy: 0.6951\n",
            "Epoch 197/200\n",
            "121/121 [==============================] - 0s 4ms/step - loss: 0.7055 - accuracy: 0.7558 - val_loss: 0.8650 - val_accuracy: 0.7024\n",
            "Epoch 198/200\n",
            "121/121 [==============================] - 0s 4ms/step - loss: 0.6685 - accuracy: 0.7646 - val_loss: 0.8753 - val_accuracy: 0.7150\n",
            "Epoch 199/200\n",
            "121/121 [==============================] - 0s 4ms/step - loss: 0.6701 - accuracy: 0.7646 - val_loss: 0.8301 - val_accuracy: 0.7224\n",
            "Epoch 200/200\n",
            "121/121 [==============================] - 1s 4ms/step - loss: 0.6787 - accuracy: 0.7652 - val_loss: 0.8544 - val_accuracy: 0.6930\n"
          ]
        }
      ],
      "source": [
        "cnnhistory=model.fit(x_traincnn, y_train, batch_size=16, epochs=200, validation_data=(x_testcnn, y_test))"
      ]
    },
    {
      "cell_type": "code",
      "execution_count": 35,
      "metadata": {
        "colab": {
          "base_uri": "https://localhost:8080/",
          "height": 295
        },
        "colab_type": "code",
        "id": "WEomk3HUOwSz",
        "outputId": "1cde7e1d-64a5-4c41-b1ef-b68f08982e49"
      },
      "outputs": [
        {
          "data": {
            "image/png": "[encoded data removed]",
            "text/plain": [
              "<Figure size 432x288 with 1 Axes>"
            ]
          },
          "metadata": {
            "needs_background": "light"
          },
          "output_type": "display_data"
        }
      ],
      "source": [
        "plt.plot(cnnhistory.history['loss'])\n",
        "plt.plot(cnnhistory.history['val_loss'])\n",
        "plt.title('model loss')\n",
        "plt.ylabel('loss')\n",
        "plt.xlabel('epoch')\n",
        "plt.legend(['train', 'test'], loc='upper left')\n",
        "plt.show()"
      ]
    },
    {
      "cell_type": "code",
      "execution_count": 36,
      "metadata": {
        "colab": {
          "base_uri": "https://localhost:8080/",
          "height": 295
        },
        "colab_type": "code",
        "id": "n4UNnOn80S_3",
        "outputId": "37e334a6-5adf-4fbb-c478-070c5501c5b3"
      },
      "outputs": [
        {
          "data": {
            "image/png": "[encoded data removed]",
            "text/plain": [
              "<Figure size 432x288 with 1 Axes>"
            ]
          },
          "metadata": {
            "needs_background": "light"
          },
          "output_type": "display_data"
        }
      ],
      "source": [
        "plt.plot(cnnhistory.history['accuracy'])\n",
        "plt.plot(cnnhistory.history['val_accuracy'])\n",
        "plt.title('model accuracy')\n",
        "plt.ylabel('accuracy')\n",
        "plt.xlabel('epoch')\n",
        "plt.legend(['train', 'test'], loc='upper left')\n",
        "plt.show()"
      ]
    },
    {
      "cell_type": "code",
      "execution_count": 48,
      "metadata": {
        "colab": {},
        "colab_type": "code",
        "id": "CSR0-VCVPO81"
      },
      "outputs": [],
      "source": [
        "# predictions = model.predict(x_testcnn)\n",
        "\n",
        "predict_x=model.predict(x_testcnn) \n",
        "predictions=np.argmax(predict_x,axis=1)\n"
      ]
    },
    {
      "cell_type": "code",
      "execution_count": 49,
      "metadata": {
        "colab": {
          "base_uri": "https://localhost:8080/",
          "height": 35
        },
        "colab_type": "code",
        "id": "7uKNuzd6PVZi",
        "outputId": "44bc4bc2-057e-47a5-ee3e-8cef839277d3"
      },
      "outputs": [
        {
          "data": {
            "text/plain": [
              "array([1, 2, 7, 6, 5, 6, 5, 2, 5, 2, 5, 1, 7, 6, 6, 2, 1, 1, 1, 1, 3, 5,\n",
              "       5, 4, 7, 2, 1, 4, 4, 7, 6, 4, 4, 2, 5, 6, 1, 2, 7, 6, 5, 7, 3, 4,\n",
              "       5, 1, 7, 1, 4, 1, 6, 3, 5, 4, 7, 4, 5, 4, 3, 1, 5, 7, 3, 5, 3, 1,\n",
              "       7, 1, 7, 7, 4, 3, 4, 4, 4, 4, 4, 4, 3, 3, 0, 3, 1, 4, 5, 1, 6, 3,\n",
              "       1, 1, 3, 7, 6, 3, 3, 1, 5, 2, 3, 3, 1, 5, 4, 2, 1, 3, 7, 3, 5, 0,\n",
              "       7, 4, 2, 5, 5, 6, 1, 3, 6, 4, 3, 5, 4, 6, 6, 4, 2, 5, 5, 1, 5, 6,\n",
              "       0, 4, 3, 3, 7, 6, 7, 4, 1, 4, 1, 2, 4, 6, 4, 5, 6, 7, 7, 5, 3, 4,\n",
              "       7, 1, 3, 5, 2, 4, 1, 2, 5, 7, 7, 5, 2, 3, 6, 1, 5, 6, 6, 3, 1, 7,\n",
              "       7, 0, 7, 7, 1, 1, 6, 6, 4, 7, 1, 5, 7, 3, 5, 1, 2, 5, 2, 6, 3, 2,\n",
              "       6, 1, 4, 6, 6, 2, 6, 1, 5, 5, 7, 7, 1, 5, 4, 4, 6, 0, 3, 2, 1, 4,\n",
              "       5, 6, 3, 4, 1, 4, 1, 1, 3, 4, 7, 1, 1, 5, 7, 1, 1, 1, 4, 6, 3, 4,\n",
              "       5, 6, 7, 7, 5, 4, 3, 1, 4, 7, 2, 1, 5, 6, 7, 1, 0, 7, 5, 1, 6, 1,\n",
              "       1, 3, 5, 7, 7, 7, 1, 5, 2, 4, 2, 7, 5, 4, 2, 1, 4, 7, 7, 7, 5, 6,\n",
              "       2, 3, 6, 7, 3, 7, 7, 3, 5, 5, 6, 3, 3, 5, 1, 4, 2, 4, 2, 5, 1, 3,\n",
              "       7, 7, 5, 7, 4, 7, 1, 6, 4, 5, 6, 7, 1, 1, 1, 2, 5, 5, 7, 5, 4, 6,\n",
              "       2, 6, 3, 1, 4, 7, 7, 4, 2, 3, 5, 3, 1, 5, 1, 3, 1, 3, 3, 5, 5, 1,\n",
              "       4, 4, 3, 5, 6, 3, 6, 4, 3, 4, 5, 2, 4, 2, 1, 5, 1, 1, 3, 5, 6, 1,\n",
              "       1, 3, 5, 4, 1, 4, 4, 7, 1, 5, 4, 7, 2, 1, 2, 7, 3, 3, 3, 1, 7, 1,\n",
              "       5, 3, 3, 5, 0, 6, 7, 4, 5, 2, 4, 3, 7, 2, 3, 4, 3, 5, 6, 6, 4, 4,\n",
              "       7, 4, 7, 4, 1, 5, 4, 6, 7, 5, 0, 0, 2, 5, 5, 0, 2, 4, 1, 1, 2, 1,\n",
              "       3, 7, 2, 7, 2, 3, 3, 7, 4, 6, 5, 3, 7, 3, 1, 1, 2, 2, 7, 4, 5, 6,\n",
              "       4, 1, 4, 1, 2, 1, 3, 5, 6, 6, 4, 4, 6, 4, 5, 2, 3, 6, 5, 5, 0, 4,\n",
              "       5, 6, 6, 1, 1, 6, 7, 7, 7, 1, 5, 3, 4, 5, 5, 4, 2, 3, 2, 6, 1, 2,\n",
              "       4, 7, 4, 1, 1, 1, 2, 2, 6, 1, 1, 4, 0, 1, 1, 5, 4, 6, 6, 2, 2, 7,\n",
              "       3, 2, 4, 5, 5, 6, 5, 3, 6, 6, 3, 1, 2, 3, 0, 2, 5, 7, 4, 4, 3, 2,\n",
              "       5, 1, 5, 4, 3, 1, 7, 1, 1, 7, 5, 1, 6, 1, 1, 2, 5, 5, 0, 1, 5, 2,\n",
              "       1, 5, 1, 7, 6, 1, 5, 5, 3, 1, 7, 4, 5, 3, 6, 5, 1, 2, 3, 5, 7, 4,\n",
              "       6, 1, 6, 3, 6, 5, 3, 6, 3, 1, 7, 6, 5, 1, 5, 4, 1, 0, 7, 1, 2, 1,\n",
              "       1, 5, 3, 5, 1, 0, 6, 6, 4, 6, 7, 2, 2, 7, 1, 6, 4, 1, 2, 6, 6, 3,\n",
              "       6, 2, 4, 6, 5, 1, 2, 2, 4, 2, 7, 4, 5, 1, 3, 5, 5, 2, 7, 6, 7, 5,\n",
              "       6, 1, 3, 7, 1, 0, 1, 6, 1, 1, 7, 5, 5, 5, 3, 1, 5, 1, 1, 5, 5, 5,\n",
              "       4, 4, 1, 4, 5, 7, 5, 2, 3, 3, 2, 7, 5, 4, 7, 5, 5, 3, 3, 0, 5, 4,\n",
              "       2, 3, 3, 1, 5, 1, 7, 1, 2, 6, 4, 1, 7, 7, 3, 4, 7, 1, 7, 1, 3, 1,\n",
              "       1, 3, 5, 4, 4, 6, 4, 4, 1, 5, 3, 5, 1, 3, 5, 5, 7, 6, 7, 3, 1, 5,\n",
              "       5, 3, 0, 1, 7, 5, 2, 1, 7, 7, 3, 4, 1, 2, 4, 4, 5, 1, 3, 5, 5, 4,\n",
              "       1, 7, 3, 4, 5, 7, 1, 6, 0, 5, 1, 7, 5, 3, 2, 4, 7, 1, 1, 2, 2, 1,\n",
              "       5, 4, 2, 6, 4, 6, 5, 3, 6, 6, 4, 2, 7, 1, 2, 1, 4, 4, 4, 1, 6, 5,\n",
              "       1, 1, 2, 4, 1, 5, 6, 2, 5, 3, 5, 7, 7, 4, 1, 2, 4, 7, 5, 3, 2, 2,\n",
              "       1, 5, 0, 4, 4, 3, 7, 4, 3, 3, 1, 7, 1, 5, 1, 4, 0, 1, 2, 4, 5, 6,\n",
              "       7, 5, 6, 3, 4, 1, 3, 3, 6, 4, 1, 7, 2, 6, 7, 6, 5, 7, 6, 2, 1, 4,\n",
              "       2, 6, 1, 6, 3, 6, 0, 6, 5, 7, 3, 5, 1, 7, 4, 5, 1, 3, 5, 6, 6, 1,\n",
              "       2, 7, 3, 6, 5, 1, 2, 2, 1, 2, 6, 2, 4, 1, 5, 2, 5, 4, 4, 7, 6, 3,\n",
              "       1, 1, 3, 3, 5, 4, 5, 5, 1, 4, 7, 1, 3, 1, 6, 2, 7, 3, 4, 5, 6, 2,\n",
              "       1, 7, 5, 5, 7])"
            ]
          },
          "execution_count": 49,
          "metadata": {},
          "output_type": "execute_result"
        }
      ],
      "source": [
        "predictions"
      ]
    },
    {
      "cell_type": "code",
      "execution_count": 50,
      "metadata": {
        "colab": {
          "base_uri": "https://localhost:8080/",
          "height": 35
        },
        "colab_type": "code",
        "id": "GhfXlBdJQFr9",
        "outputId": "500b7540-7641-41eb-fba1-e7dd0a49c475"
      },
      "outputs": [
        {
          "data": {
            "text/plain": [
              "array([1, 2, 7, 6, 2, 6, 7, 2, 2, 2, 2, 3, 3, 6, 6, 3, 1, 1, 0, 1, 3, 5,\n",
              "       5, 7, 7, 4, 1, 4, 4, 3, 6, 4, 7, 2, 5, 5, 1, 7, 6, 6, 0, 4, 3, 7,\n",
              "       2, 3, 7, 1, 0, 1, 6, 3, 7, 4, 7, 4, 5, 4, 3, 1, 5, 7, 0, 4, 3, 1,\n",
              "       4, 1, 5, 7, 7, 3, 4, 4, 2, 4, 4, 4, 3, 6, 0, 3, 3, 4, 5, 1, 4, 0,\n",
              "       1, 1, 5, 6, 6, 3, 5, 1, 6, 7, 3, 1, 1, 4, 4, 2, 1, 3, 7, 3, 5, 0,\n",
              "       6, 4, 6, 5, 5, 4, 1, 2, 6, 4, 3, 5, 4, 6, 6, 4, 2, 3, 3, 1, 5, 6,\n",
              "       0, 4, 2, 3, 6, 6, 7, 4, 1, 4, 0, 2, 4, 6, 4, 6, 1, 7, 7, 2, 2, 4,\n",
              "       7, 1, 3, 5, 2, 4, 1, 7, 5, 7, 7, 2, 1, 3, 6, 1, 5, 6, 3, 2, 1, 7,\n",
              "       3, 0, 7, 7, 1, 0, 6, 6, 2, 7, 0, 5, 7, 6, 2, 3, 2, 5, 2, 6, 6, 2,\n",
              "       1, 1, 4, 6, 6, 2, 6, 0, 5, 5, 3, 7, 6, 0, 4, 4, 6, 0, 6, 2, 1, 4,\n",
              "       5, 6, 2, 4, 1, 7, 1, 6, 1, 4, 7, 0, 1, 6, 7, 1, 1, 0, 6, 6, 3, 4,\n",
              "       5, 6, 6, 7, 6, 4, 0, 1, 6, 6, 6, 1, 7, 6, 7, 1, 0, 7, 2, 1, 0, 1,\n",
              "       1, 1, 5, 7, 7, 7, 1, 1, 2, 4, 2, 7, 5, 4, 2, 1, 4, 2, 7, 7, 4, 6,\n",
              "       3, 5, 6, 3, 0, 3, 5, 3, 2, 2, 6, 3, 2, 5, 1, 4, 2, 7, 2, 5, 0, 1,\n",
              "       7, 7, 5, 2, 4, 7, 3, 5, 4, 5, 6, 7, 3, 1, 1, 2, 5, 5, 7, 6, 4, 6,\n",
              "       2, 6, 3, 0, 4, 7, 7, 4, 2, 3, 5, 3, 0, 5, 0, 3, 0, 3, 0, 5, 4, 1,\n",
              "       4, 4, 3, 7, 4, 2, 6, 4, 3, 4, 5, 2, 4, 7, 1, 5, 1, 1, 3, 3, 6, 1,\n",
              "       6, 3, 5, 3, 0, 4, 4, 6, 0, 5, 4, 5, 7, 3, 2, 2, 3, 7, 5, 1, 7, 1,\n",
              "       5, 0, 3, 5, 0, 6, 7, 6, 2, 2, 4, 3, 3, 2, 3, 4, 3, 5, 6, 3, 4, 4,\n",
              "       7, 4, 2, 6, 1, 5, 4, 6, 7, 5, 0, 6, 7, 5, 2, 0, 5, 4, 1, 1, 2, 1,\n",
              "       3, 7, 2, 7, 2, 3, 3, 2, 4, 6, 5, 3, 7, 3, 1, 1, 2, 2, 7, 6, 5, 6,\n",
              "       7, 0, 4, 1, 2, 1, 4, 2, 6, 6, 4, 4, 6, 4, 3, 2, 0, 6, 5, 6, 0, 2,\n",
              "       5, 6, 7, 0, 1, 6, 7, 7, 7, 1, 3, 4, 4, 3, 5, 4, 2, 3, 0, 6, 1, 7,\n",
              "       4, 7, 4, 2, 1, 6, 2, 2, 6, 1, 0, 4, 6, 1, 1, 7, 4, 6, 4, 2, 2, 3,\n",
              "       1, 6, 4, 5, 5, 6, 5, 3, 6, 6, 3, 0, 2, 3, 0, 5, 5, 7, 4, 6, 3, 2,\n",
              "       2, 1, 2, 4, 3, 1, 3, 3, 6, 7, 6, 7, 6, 1, 1, 1, 5, 5, 0, 7, 6, 2,\n",
              "       3, 5, 1, 2, 2, 6, 2, 1, 3, 1, 7, 4, 2, 3, 4, 5, 1, 2, 3, 5, 2, 4,\n",
              "       6, 3, 6, 3, 6, 5, 6, 6, 3, 6, 7, 6, 5, 1, 5, 4, 0, 0, 6, 1, 2, 6,\n",
              "       5, 5, 3, 5, 1, 0, 2, 6, 6, 6, 7, 6, 2, 7, 1, 6, 4, 1, 2, 6, 6, 3,\n",
              "       6, 2, 4, 7, 0, 1, 2, 2, 2, 2, 7, 4, 3, 0, 2, 6, 5, 2, 7, 6, 7, 5,\n",
              "       6, 2, 3, 7, 1, 0, 1, 6, 1, 3, 7, 5, 5, 2, 3, 1, 5, 5, 3, 5, 7, 5,\n",
              "       4, 2, 1, 4, 5, 7, 2, 2, 3, 3, 2, 3, 7, 4, 7, 5, 5, 7, 3, 3, 5, 4,\n",
              "       2, 3, 3, 1, 0, 0, 7, 3, 2, 6, 4, 1, 2, 2, 1, 4, 7, 1, 6, 1, 3, 1,\n",
              "       3, 3, 6, 4, 4, 6, 4, 4, 1, 5, 3, 7, 1, 3, 7, 5, 7, 6, 7, 6, 1, 5,\n",
              "       5, 3, 0, 3, 7, 5, 2, 1, 7, 6, 6, 4, 1, 2, 4, 2, 5, 1, 3, 3, 5, 0,\n",
              "       1, 7, 0, 4, 5, 6, 1, 6, 0, 3, 1, 7, 5, 3, 2, 4, 4, 3, 6, 4, 2, 1,\n",
              "       6, 4, 2, 6, 4, 6, 2, 3, 6, 6, 7, 7, 7, 0, 7, 6, 0, 4, 4, 1, 6, 2,\n",
              "       3, 1, 5, 4, 1, 2, 6, 2, 4, 3, 5, 7, 7, 4, 2, 2, 4, 3, 2, 3, 2, 6,\n",
              "       2, 5, 0, 4, 4, 3, 7, 3, 0, 2, 1, 7, 0, 5, 1, 4, 0, 1, 2, 3, 0, 6,\n",
              "       7, 5, 7, 0, 4, 1, 3, 6, 6, 4, 1, 7, 2, 6, 7, 6, 6, 7, 5, 2, 1, 4,\n",
              "       2, 4, 1, 6, 3, 3, 0, 6, 5, 7, 2, 5, 1, 7, 4, 5, 0, 6, 5, 4, 6, 1,\n",
              "       7, 7, 3, 6, 5, 1, 2, 7, 1, 7, 6, 5, 4, 1, 3, 2, 5, 4, 2, 6, 6, 3,\n",
              "       1, 3, 3, 0, 5, 2, 5, 5, 1, 4, 7, 3, 3, 1, 6, 2, 7, 3, 4, 5, 6, 2,\n",
              "       3, 7, 5, 5, 4])"
            ]
          },
          "execution_count": 50,
          "metadata": {},
          "output_type": "execute_result"
        }
      ],
      "source": [
        "y_test"
      ]
    },
    {
      "cell_type": "code",
      "execution_count": 51,
      "metadata": {
        "colab": {},
        "colab_type": "code",
        "id": "FC1heRemQJHA"
      },
      "outputs": [],
      "source": [
        "new_Ytest = y_test.astype(int)"
      ]
    },
    {
      "cell_type": "code",
      "execution_count": 52,
      "metadata": {
        "colab": {
          "base_uri": "https://localhost:8080/",
          "height": 35
        },
        "colab_type": "code",
        "id": "65ZqfKMHQNBY",
        "outputId": "d1f51eb3-ab89-492a-adc3-0d770a342096"
      },
      "outputs": [
        {
          "data": {
            "text/plain": [
              "array([1, 2, 7, 6, 2, 6, 7, 2, 2, 2, 2, 3, 3, 6, 6, 3, 1, 1, 0, 1, 3, 5,\n",
              "       5, 7, 7, 4, 1, 4, 4, 3, 6, 4, 7, 2, 5, 5, 1, 7, 6, 6, 0, 4, 3, 7,\n",
              "       2, 3, 7, 1, 0, 1, 6, 3, 7, 4, 7, 4, 5, 4, 3, 1, 5, 7, 0, 4, 3, 1,\n",
              "       4, 1, 5, 7, 7, 3, 4, 4, 2, 4, 4, 4, 3, 6, 0, 3, 3, 4, 5, 1, 4, 0,\n",
              "       1, 1, 5, 6, 6, 3, 5, 1, 6, 7, 3, 1, 1, 4, 4, 2, 1, 3, 7, 3, 5, 0,\n",
              "       6, 4, 6, 5, 5, 4, 1, 2, 6, 4, 3, 5, 4, 6, 6, 4, 2, 3, 3, 1, 5, 6,\n",
              "       0, 4, 2, 3, 6, 6, 7, 4, 1, 4, 0, 2, 4, 6, 4, 6, 1, 7, 7, 2, 2, 4,\n",
              "       7, 1, 3, 5, 2, 4, 1, 7, 5, 7, 7, 2, 1, 3, 6, 1, 5, 6, 3, 2, 1, 7,\n",
              "       3, 0, 7, 7, 1, 0, 6, 6, 2, 7, 0, 5, 7, 6, 2, 3, 2, 5, 2, 6, 6, 2,\n",
              "       1, 1, 4, 6, 6, 2, 6, 0, 5, 5, 3, 7, 6, 0, 4, 4, 6, 0, 6, 2, 1, 4,\n",
              "       5, 6, 2, 4, 1, 7, 1, 6, 1, 4, 7, 0, 1, 6, 7, 1, 1, 0, 6, 6, 3, 4,\n",
              "       5, 6, 6, 7, 6, 4, 0, 1, 6, 6, 6, 1, 7, 6, 7, 1, 0, 7, 2, 1, 0, 1,\n",
              "       1, 1, 5, 7, 7, 7, 1, 1, 2, 4, 2, 7, 5, 4, 2, 1, 4, 2, 7, 7, 4, 6,\n",
              "       3, 5, 6, 3, 0, 3, 5, 3, 2, 2, 6, 3, 2, 5, 1, 4, 2, 7, 2, 5, 0, 1,\n",
              "       7, 7, 5, 2, 4, 7, 3, 5, 4, 5, 6, 7, 3, 1, 1, 2, 5, 5, 7, 6, 4, 6,\n",
              "       2, 6, 3, 0, 4, 7, 7, 4, 2, 3, 5, 3, 0, 5, 0, 3, 0, 3, 0, 5, 4, 1,\n",
              "       4, 4, 3, 7, 4, 2, 6, 4, 3, 4, 5, 2, 4, 7, 1, 5, 1, 1, 3, 3, 6, 1,\n",
              "       6, 3, 5, 3, 0, 4, 4, 6, 0, 5, 4, 5, 7, 3, 2, 2, 3, 7, 5, 1, 7, 1,\n",
              "       5, 0, 3, 5, 0, 6, 7, 6, 2, 2, 4, 3, 3, 2, 3, 4, 3, 5, 6, 3, 4, 4,\n",
              "       7, 4, 2, 6, 1, 5, 4, 6, 7, 5, 0, 6, 7, 5, 2, 0, 5, 4, 1, 1, 2, 1,\n",
              "       3, 7, 2, 7, 2, 3, 3, 2, 4, 6, 5, 3, 7, 3, 1, 1, 2, 2, 7, 6, 5, 6,\n",
              "       7, 0, 4, 1, 2, 1, 4, 2, 6, 6, 4, 4, 6, 4, 3, 2, 0, 6, 5, 6, 0, 2,\n",
              "       5, 6, 7, 0, 1, 6, 7, 7, 7, 1, 3, 4, 4, 3, 5, 4, 2, 3, 0, 6, 1, 7,\n",
              "       4, 7, 4, 2, 1, 6, 2, 2, 6, 1, 0, 4, 6, 1, 1, 7, 4, 6, 4, 2, 2, 3,\n",
              "       1, 6, 4, 5, 5, 6, 5, 3, 6, 6, 3, 0, 2, 3, 0, 5, 5, 7, 4, 6, 3, 2,\n",
              "       2, 1, 2, 4, 3, 1, 3, 3, 6, 7, 6, 7, 6, 1, 1, 1, 5, 5, 0, 7, 6, 2,\n",
              "       3, 5, 1, 2, 2, 6, 2, 1, 3, 1, 7, 4, 2, 3, 4, 5, 1, 2, 3, 5, 2, 4,\n",
              "       6, 3, 6, 3, 6, 5, 6, 6, 3, 6, 7, 6, 5, 1, 5, 4, 0, 0, 6, 1, 2, 6,\n",
              "       5, 5, 3, 5, 1, 0, 2, 6, 6, 6, 7, 6, 2, 7, 1, 6, 4, 1, 2, 6, 6, 3,\n",
              "       6, 2, 4, 7, 0, 1, 2, 2, 2, 2, 7, 4, 3, 0, 2, 6, 5, 2, 7, 6, 7, 5,\n",
              "       6, 2, 3, 7, 1, 0, 1, 6, 1, 3, 7, 5, 5, 2, 3, 1, 5, 5, 3, 5, 7, 5,\n",
              "       4, 2, 1, 4, 5, 7, 2, 2, 3, 3, 2, 3, 7, 4, 7, 5, 5, 7, 3, 3, 5, 4,\n",
              "       2, 3, 3, 1, 0, 0, 7, 3, 2, 6, 4, 1, 2, 2, 1, 4, 7, 1, 6, 1, 3, 1,\n",
              "       3, 3, 6, 4, 4, 6, 4, 4, 1, 5, 3, 7, 1, 3, 7, 5, 7, 6, 7, 6, 1, 5,\n",
              "       5, 3, 0, 3, 7, 5, 2, 1, 7, 6, 6, 4, 1, 2, 4, 2, 5, 1, 3, 3, 5, 0,\n",
              "       1, 7, 0, 4, 5, 6, 1, 6, 0, 3, 1, 7, 5, 3, 2, 4, 4, 3, 6, 4, 2, 1,\n",
              "       6, 4, 2, 6, 4, 6, 2, 3, 6, 6, 7, 7, 7, 0, 7, 6, 0, 4, 4, 1, 6, 2,\n",
              "       3, 1, 5, 4, 1, 2, 6, 2, 4, 3, 5, 7, 7, 4, 2, 2, 4, 3, 2, 3, 2, 6,\n",
              "       2, 5, 0, 4, 4, 3, 7, 3, 0, 2, 1, 7, 0, 5, 1, 4, 0, 1, 2, 3, 0, 6,\n",
              "       7, 5, 7, 0, 4, 1, 3, 6, 6, 4, 1, 7, 2, 6, 7, 6, 6, 7, 5, 2, 1, 4,\n",
              "       2, 4, 1, 6, 3, 3, 0, 6, 5, 7, 2, 5, 1, 7, 4, 5, 0, 6, 5, 4, 6, 1,\n",
              "       7, 7, 3, 6, 5, 1, 2, 7, 1, 7, 6, 5, 4, 1, 3, 2, 5, 4, 2, 6, 6, 3,\n",
              "       1, 3, 3, 0, 5, 2, 5, 5, 1, 4, 7, 3, 3, 1, 6, 2, 7, 3, 4, 5, 6, 2,\n",
              "       3, 7, 5, 5, 4])"
            ]
          },
          "execution_count": 52,
          "metadata": {},
          "output_type": "execute_result"
        }
      ],
      "source": [
        "new_Ytest"
      ]
    },
    {
      "cell_type": "code",
      "execution_count": 53,
      "metadata": {
        "colab": {
          "base_uri": "https://localhost:8080/",
          "height": 284
        },
        "colab_type": "code",
        "id": "wK2gsnN-QO1C",
        "outputId": "fdd8cf81-901f-42a9-ac51-0cbe2fbad867"
      },
      "outputs": [
        {
          "name": "stdout",
          "output_type": "stream",
          "text": [
            "              precision    recall  f1-score   support\n",
            "\n",
            "           0       0.87      0.31      0.45        65\n",
            "           1       0.65      0.91      0.76       128\n",
            "           2       0.71      0.55      0.62       125\n",
            "           3       0.63      0.60      0.62       126\n",
            "           4       0.79      0.84      0.82       128\n",
            "           5       0.59      0.86      0.70       112\n",
            "           6       0.81      0.61      0.70       146\n",
            "           7       0.69      0.70      0.69       121\n",
            "\n",
            "    accuracy                           0.69       951\n",
            "   macro avg       0.72      0.67      0.67       951\n",
            "weighted avg       0.71      0.69      0.68       951\n",
            "\n"
          ]
        }
      ],
      "source": [
        "from sklearn.metrics import classification_report\n",
        "report = classification_report(new_Ytest, predictions)\n",
        "print(report)"
      ]
    },
    {
      "cell_type": "code",
      "execution_count": 54,
      "metadata": {
        "colab": {
          "base_uri": "https://localhost:8080/",
          "height": 159
        },
        "colab_type": "code",
        "id": "XipKuFRTQSFj",
        "outputId": "c55049fe-4461-4899-e70a-87555479dd4c"
      },
      "outputs": [
        {
          "name": "stdout",
          "output_type": "stream",
          "text": [
            "[[ 20  24   1  11   3   5   1   0]\n",
            " [  0 116   2   6   0   2   2   0]\n",
            " [  0   4  69  10   8  23   2   9]\n",
            " [  1  20   2  76   3  10   3  11]\n",
            " [  0   0   2   2 108   5   7   4]\n",
            " [  0   2   4   4   0  96   3   3]\n",
            " [  2  10   5   9   7  12  89  12]\n",
            " [  0   2  12   2   8   9   3  85]]\n"
          ]
        }
      ],
      "source": [
        "from sklearn.metrics import confusion_matrix\n",
        "matrix = confusion_matrix(new_Ytest, predictions)\n",
        "print (matrix)\n",
        "\n",
        "# 0 = neutral, 1 = calm, 2 = happy, 3 = sad, 4 = angry, 5 = fearful, 6 = disgust, 7 = surprised"
      ]
    },
    {
      "cell_type": "code",
      "execution_count": 55,
      "metadata": {
        "colab": {
          "base_uri": "https://localhost:8080/",
          "height": 35
        },
        "colab_type": "code",
        "id": "ORm3pz9NQdlW",
        "outputId": "a50537b9-f833-4d66-cafb-eec3f3fd219a"
      },
      "outputs": [
        {
          "name": "stdout",
          "output_type": "stream",
          "text": [
            "MODEL SAVED\n"
          ]
        }
      ],
      "source": [
        "model.save('testing10_model.h5')\n",
        "print(\"MODEL SAVED\")"
      ]
    },
    {
      "cell_type": "code",
      "execution_count": 56,
      "metadata": {
        "colab": {
          "base_uri": "https://localhost:8080/",
          "height": 657
        },
        "colab_type": "code",
        "id": "6aFHzp7PQvMJ",
        "outputId": "fcd82c73-683a-4dde-c866-aafaa285fa66"
      },
      "outputs": [
        {
          "name": "stdout",
          "output_type": "stream",
          "text": [
            "Model: \"sequential_5\"\n",
            "_________________________________________________________________\n",
            " Layer (type)                Output Shape              Param #   \n",
            "=================================================================\n",
            " conv1d_15 (Conv1D)          (None, 40, 64)            384       \n",
            "                                                                 \n",
            " activation_20 (Activation)  (None, 40, 64)            0         \n",
            "                                                                 \n",
            " dropout_15 (Dropout)        (None, 40, 64)            0         \n",
            "                                                                 \n",
            " max_pooling1d_10 (MaxPoolin  (None, 10, 64)           0         \n",
            " g1D)                                                            \n",
            "                                                                 \n",
            " conv1d_16 (Conv1D)          (None, 10, 128)           41088     \n",
            "                                                                 \n",
            " activation_21 (Activation)  (None, 10, 128)           0         \n",
            "                                                                 \n",
            " dropout_16 (Dropout)        (None, 10, 128)           0         \n",
            "                                                                 \n",
            " max_pooling1d_11 (MaxPoolin  (None, 2, 128)           0         \n",
            " g1D)                                                            \n",
            "                                                                 \n",
            " conv1d_17 (Conv1D)          (None, 2, 256)            164096    \n",
            "                                                                 \n",
            " activation_22 (Activation)  (None, 2, 256)            0         \n",
            "                                                                 \n",
            " dropout_17 (Dropout)        (None, 2, 256)            0         \n",
            "                                                                 \n",
            " flatten_5 (Flatten)         (None, 512)               0         \n",
            "                                                                 \n",
            " dense_5 (Dense)             (None, 8)                 4104      \n",
            "                                                                 \n",
            " activation_23 (Activation)  (None, 8)                 0         \n",
            "                                                                 \n",
            "=================================================================\n",
            "Total params: 209,672\n",
            "Trainable params: 209,672\n",
            "Non-trainable params: 0\n",
            "_________________________________________________________________\n"
          ]
        }
      ],
      "source": [
        "new_model=keras.models.load_model('testing10_model.h5')\n",
        "new_model.summary()"
      ]
    },
    {
      "cell_type": "code",
      "execution_count": 57,
      "metadata": {
        "colab": {
          "base_uri": "https://localhost:8080/",
          "height": 52
        },
        "colab_type": "code",
        "id": "whzXUxB5Q06g",
        "outputId": "95bca73d-1171-4b97-c46f-2c7c74e5587b"
      },
      "outputs": [
        {
          "name": "stdout",
          "output_type": "stream",
          "text": [
            "30/30 [==============================] - 0s 1ms/step - loss: 0.8544 - accuracy: 0.6930\n",
            "Restored model, accuracy: 69.30%\n"
          ]
        }
      ],
      "source": [
        "loss, acc = new_model.evaluate(x_testcnn, y_test)\n",
        "print(\"Restored model, accuracy: {:5.2f}%\".format(100*acc))"
      ]
    },
    {
      "cell_type": "code",
      "execution_count": null,
      "metadata": {
        "colab": {},
        "colab_type": "code",
        "id": "r6n31dxyQ5Sp"
      },
      "outputs": [],
      "source": []
    }
  ],
  "metadata": {
    "colab": {
      "collapsed_sections": [],
      "name": "Testing10(Deep Learning).ipynb",
      "provenance": []
    },
    "kernelspec": {
      "display_name": "Python 3",
      "name": "python3"
    },
    "language_info": {
      "codemirror_mode": {
        "name": "ipython",
        "version": 3
      },
      "file_extension": ".py",
      "mimetype": "text/x-python",
      "name": "python",
      "nbconvert_exporter": "python",
      "pygments_lexer": "ipython3",
      "version": "3.8.10"
    }
  },
  "nbformat": 4,
  "nbformat_minor": 0
}
